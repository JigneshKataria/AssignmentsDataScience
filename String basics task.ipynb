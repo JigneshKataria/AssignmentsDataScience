{
 "cells": [
  {
   "cell_type": "markdown",
   "id": "02f2640b",
   "metadata": {},
   "source": [
    "s=\"this is My First Programming class and i am learning python string and its function\"\n",
    "\n",
    "\"\"\"\n",
    "1. Try to extract data from index one to index 300 with a jump of 3\n",
    "2. Try to reverse string without using reverse function\n",
    "3. Try to split a string after conversion of entire string in upper case\n",
    "4. Try to convert the whole string into lower case\n",
    "5. Try to capitalize the whole string\n",
    "6. write a difference between isalnum() and isalpha()\n",
    "7. Try to give example of expand tab\n",
    "8. Give an example of strip and lstrip, rstrip\n",
    "9. replace a string character by another character by taking your own example\n",
    "10. Try to give definition of string center function with and example\n",
    "11. write your own definition of compiler and interpretor without copy paste\n",
    "12. Python is a interpreted orcompiled language give a clear ans with understanding\n",
    "13. Try to write a usecase of python with your understanding"
   ]
  },
  {
   "cell_type": "markdown",
   "id": "87966bec",
   "metadata": {},
   "source": [
    "1. Try to extract data from index one to index 300 with a jump of 3\n"
   ]
  },
  {
   "cell_type": "code",
   "execution_count": 1,
   "id": "d3a66099",
   "metadata": {},
   "outputs": [],
   "source": [
    "s=\"this is My First Programming class and i am learning python string and its function\"\n"
   ]
  },
  {
   "cell_type": "code",
   "execution_count": 2,
   "id": "94471b36",
   "metadata": {},
   "outputs": [
    {
     "data": {
      "text/plain": [
       "'this is My First Programming class and i am learning python string and its function'"
      ]
     },
     "execution_count": 2,
     "metadata": {},
     "output_type": "execute_result"
    }
   ],
   "source": [
    "s"
   ]
  },
  {
   "cell_type": "code",
   "execution_count": 5,
   "id": "4eea2da5",
   "metadata": {},
   "outputs": [
    {
     "data": {
      "text/plain": [
       "'h   r oai a d  ai tntna sutn'"
      ]
     },
     "execution_count": 5,
     "metadata": {},
     "output_type": "execute_result"
    }
   ],
   "source": [
    "s[1:300:3]"
   ]
  },
  {
   "cell_type": "markdown",
   "id": "2f2bb8d3",
   "metadata": {},
   "source": [
    "2. Try to reverse string without using reverse function\n"
   ]
  },
  {
   "cell_type": "code",
   "execution_count": 6,
   "id": "e5c74b28",
   "metadata": {},
   "outputs": [
    {
     "data": {
      "text/plain": [
       "'this is My First Programming class and i am learning python string and its function'"
      ]
     },
     "execution_count": 6,
     "metadata": {},
     "output_type": "execute_result"
    }
   ],
   "source": [
    "s"
   ]
  },
  {
   "cell_type": "code",
   "execution_count": 7,
   "id": "ae1d1aeb",
   "metadata": {},
   "outputs": [
    {
     "data": {
      "text/plain": [
       "'noitcnuf sti dna gnirts nohtyp gninrael ma i dna ssalc gnimmargorP tsriF yM si siht'"
      ]
     },
     "execution_count": 7,
     "metadata": {},
     "output_type": "execute_result"
    }
   ],
   "source": [
    "s[::-1]"
   ]
  },
  {
   "cell_type": "markdown",
   "id": "5abbc247",
   "metadata": {},
   "source": [
    "3. Try to split a string after conversion of entire string in upper case\n"
   ]
  },
  {
   "cell_type": "code",
   "execution_count": 8,
   "id": "d4de5ab5",
   "metadata": {},
   "outputs": [
    {
     "data": {
      "text/plain": [
       "'this is My First Programming class and i am learning python string and its function'"
      ]
     },
     "execution_count": 8,
     "metadata": {},
     "output_type": "execute_result"
    }
   ],
   "source": [
    "s"
   ]
  },
  {
   "cell_type": "code",
   "execution_count": 9,
   "id": "47ac0c42",
   "metadata": {},
   "outputs": [
    {
     "data": {
      "text/plain": [
       "'THIS IS MY FIRST PROGRAMMING CLASS AND I AM LEARNING PYTHON STRING AND ITS FUNCTION'"
      ]
     },
     "execution_count": 9,
     "metadata": {},
     "output_type": "execute_result"
    }
   ],
   "source": [
    "s.upper()"
   ]
  },
  {
   "cell_type": "code",
   "execution_count": 10,
   "id": "f8acb5c7",
   "metadata": {},
   "outputs": [
    {
     "data": {
      "text/plain": [
       "['this',\n",
       " 'is',\n",
       " 'My',\n",
       " 'First',\n",
       " 'Programming',\n",
       " 'class',\n",
       " 'and',\n",
       " 'i',\n",
       " 'am',\n",
       " 'learning',\n",
       " 'python',\n",
       " 'string',\n",
       " 'and',\n",
       " 'its',\n",
       " 'function']"
      ]
     },
     "execution_count": 10,
     "metadata": {},
     "output_type": "execute_result"
    }
   ],
   "source": [
    "s.split(\" \")"
   ]
  },
  {
   "cell_type": "markdown",
   "id": "eaacb681",
   "metadata": {},
   "source": [
    "4. Try to convert the whole string into lower case\n"
   ]
  },
  {
   "cell_type": "code",
   "execution_count": 11,
   "id": "c8d7f19c",
   "metadata": {},
   "outputs": [
    {
     "data": {
      "text/plain": [
       "'this is My First Programming class and i am learning python string and its function'"
      ]
     },
     "execution_count": 11,
     "metadata": {},
     "output_type": "execute_result"
    }
   ],
   "source": [
    "s"
   ]
  },
  {
   "cell_type": "code",
   "execution_count": 12,
   "id": "01ab987b",
   "metadata": {},
   "outputs": [
    {
     "data": {
      "text/plain": [
       "'this is my first programming class and i am learning python string and its function'"
      ]
     },
     "execution_count": 12,
     "metadata": {},
     "output_type": "execute_result"
    }
   ],
   "source": [
    "s.lower()"
   ]
  },
  {
   "cell_type": "markdown",
   "id": "51f8b129",
   "metadata": {},
   "source": [
    "5. Try to capitalize the whole string\n"
   ]
  },
  {
   "cell_type": "code",
   "execution_count": 13,
   "id": "1bb42eba",
   "metadata": {},
   "outputs": [
    {
     "data": {
      "text/plain": [
       "'This is my first programming class and i am learning python string and its function'"
      ]
     },
     "execution_count": 13,
     "metadata": {},
     "output_type": "execute_result"
    }
   ],
   "source": [
    "s.capitalize()"
   ]
  },
  {
   "cell_type": "markdown",
   "id": "bd807951",
   "metadata": {},
   "source": [
    "6. write a difference between isalnum() and isalpha()\n"
   ]
  },
  {
   "cell_type": "code",
   "execution_count": 15,
   "id": "6d3ac748",
   "metadata": {},
   "outputs": [
    {
     "data": {
      "text/plain": [
       "False"
      ]
     },
     "execution_count": 15,
     "metadata": {},
     "output_type": "execute_result"
    }
   ],
   "source": [
    "s.isalnum() #is alnum checks if the string is alphanumeric"
   ]
  },
  {
   "cell_type": "code",
   "execution_count": 19,
   "id": "8057dfcb",
   "metadata": {},
   "outputs": [],
   "source": [
    "s1='this is my 1 programming class and i am learning python string and its function'\n"
   ]
  },
  {
   "cell_type": "code",
   "execution_count": 20,
   "id": "c151e122",
   "metadata": {},
   "outputs": [
    {
     "data": {
      "text/plain": [
       "False"
      ]
     },
     "execution_count": 20,
     "metadata": {},
     "output_type": "execute_result"
    }
   ],
   "source": [
    "s1.isalnum()"
   ]
  },
  {
   "cell_type": "code",
   "execution_count": 25,
   "id": "62846f42",
   "metadata": {},
   "outputs": [],
   "source": [
    "s2=\"thisismy1stprogrammingclass\""
   ]
  },
  {
   "cell_type": "code",
   "execution_count": 26,
   "id": "ddd3da79",
   "metadata": {},
   "outputs": [
    {
     "data": {
      "text/plain": [
       "True"
      ]
     },
     "execution_count": 26,
     "metadata": {},
     "output_type": "execute_result"
    }
   ],
   "source": [
    "s2.isalnum()"
   ]
  },
  {
   "cell_type": "code",
   "execution_count": 27,
   "id": "678d5f3d",
   "metadata": {},
   "outputs": [
    {
     "data": {
      "text/plain": [
       "False"
      ]
     },
     "execution_count": 27,
     "metadata": {},
     "output_type": "execute_result"
    }
   ],
   "source": [
    "s.isalpha() #is alpha checks if string has only alphabets"
   ]
  },
  {
   "cell_type": "code",
   "execution_count": 28,
   "id": "4730c6fe",
   "metadata": {},
   "outputs": [
    {
     "data": {
      "text/plain": [
       "False"
      ]
     },
     "execution_count": 28,
     "metadata": {},
     "output_type": "execute_result"
    }
   ],
   "source": [
    "s2.isalpha()"
   ]
  },
  {
   "cell_type": "code",
   "execution_count": 29,
   "id": "c3886381",
   "metadata": {},
   "outputs": [
    {
     "data": {
      "text/plain": [
       "'thisismy1stprogrammingclass'"
      ]
     },
     "execution_count": 29,
     "metadata": {},
     "output_type": "execute_result"
    }
   ],
   "source": [
    "s2"
   ]
  },
  {
   "cell_type": "code",
   "execution_count": 32,
   "id": "a93850b6",
   "metadata": {},
   "outputs": [],
   "source": [
    "s3='thisismyfirstprogrammingclass'\n"
   ]
  },
  {
   "cell_type": "code",
   "execution_count": 33,
   "id": "93323f3e",
   "metadata": {},
   "outputs": [
    {
     "data": {
      "text/plain": [
       "'thisismyfirstprogrammingclass'"
      ]
     },
     "execution_count": 33,
     "metadata": {},
     "output_type": "execute_result"
    }
   ],
   "source": [
    "s3"
   ]
  },
  {
   "cell_type": "code",
   "execution_count": 34,
   "id": "aaef3d7e",
   "metadata": {},
   "outputs": [
    {
     "data": {
      "text/plain": [
       "True"
      ]
     },
     "execution_count": 34,
     "metadata": {},
     "output_type": "execute_result"
    }
   ],
   "source": [
    "s3.isalpha()"
   ]
  },
  {
   "cell_type": "markdown",
   "id": "e774d034",
   "metadata": {},
   "source": [
    "7. Try to give example of expand tab\n"
   ]
  },
  {
   "cell_type": "code",
   "execution_count": 35,
   "id": "9d1e380f",
   "metadata": {},
   "outputs": [],
   "source": [
    "name=\"My\\tname\\tis\\tJignesh\\tKataria\\t\""
   ]
  },
  {
   "cell_type": "code",
   "execution_count": 36,
   "id": "6bff7d00",
   "metadata": {},
   "outputs": [
    {
     "data": {
      "text/plain": [
       "'My      name    is      Jignesh Kataria '"
      ]
     },
     "execution_count": 36,
     "metadata": {},
     "output_type": "execute_result"
    }
   ],
   "source": [
    "name.expandtabs()"
   ]
  },
  {
   "cell_type": "markdown",
   "id": "94d51ba3",
   "metadata": {},
   "source": [
    " 8. Give an example of strip and lstrip, rstrip\n"
   ]
  },
  {
   "cell_type": "code",
   "execution_count": 38,
   "id": "56d28c44",
   "metadata": {},
   "outputs": [],
   "source": [
    "name=\"  Jignesh  \""
   ]
  },
  {
   "cell_type": "code",
   "execution_count": 39,
   "id": "bec8b968",
   "metadata": {},
   "outputs": [
    {
     "data": {
      "text/plain": [
       "'Jignesh'"
      ]
     },
     "execution_count": 39,
     "metadata": {},
     "output_type": "execute_result"
    }
   ],
   "source": [
    "name.strip()"
   ]
  },
  {
   "cell_type": "code",
   "execution_count": 40,
   "id": "d7e6da9f",
   "metadata": {},
   "outputs": [
    {
     "data": {
      "text/plain": [
       "'Jignesh  '"
      ]
     },
     "execution_count": 40,
     "metadata": {},
     "output_type": "execute_result"
    }
   ],
   "source": [
    "name.lstrip()"
   ]
  },
  {
   "cell_type": "code",
   "execution_count": 41,
   "id": "96368862",
   "metadata": {},
   "outputs": [
    {
     "data": {
      "text/plain": [
       "'  Jignesh'"
      ]
     },
     "execution_count": 41,
     "metadata": {},
     "output_type": "execute_result"
    }
   ],
   "source": [
    "name.rstrip()"
   ]
  },
  {
   "cell_type": "markdown",
   "id": "ef96854f",
   "metadata": {},
   "source": [
    "9. replace a string character by another character by taking your own example\n"
   ]
  },
  {
   "cell_type": "code",
   "execution_count": 43,
   "id": "fc2c9386",
   "metadata": {},
   "outputs": [],
   "source": [
    "name=\"Jignesh Kataria\""
   ]
  },
  {
   "cell_type": "code",
   "execution_count": 51,
   "id": "24f40b41",
   "metadata": {},
   "outputs": [
    {
     "data": {
      "text/plain": [
       "'Jigar  Kataria'"
      ]
     },
     "execution_count": 51,
     "metadata": {},
     "output_type": "execute_result"
    }
   ],
   "source": [
    "name.replace(\"nesh\",\"ar \")"
   ]
  },
  {
   "cell_type": "markdown",
   "id": "399194c1",
   "metadata": {},
   "source": [
    "10. Try to give definition of string center function with and example\n"
   ]
  },
  {
   "cell_type": "markdown",
   "id": "27a17a65",
   "metadata": {},
   "source": [
    "String center function- It will change the alignment of string character as center according to width provided in syntax."
   ]
  },
  {
   "cell_type": "code",
   "execution_count": 53,
   "id": "3f034e8e",
   "metadata": {},
   "outputs": [
    {
     "data": {
      "text/plain": [
       "'Jignesh Kataria'"
      ]
     },
     "execution_count": 53,
     "metadata": {},
     "output_type": "execute_result"
    }
   ],
   "source": [
    "name"
   ]
  },
  {
   "cell_type": "code",
   "execution_count": 55,
   "id": "0b36233c",
   "metadata": {},
   "outputs": [
    {
     "data": {
      "text/plain": [
       "'**Jignesh Kataria***'"
      ]
     },
     "execution_count": 55,
     "metadata": {},
     "output_type": "execute_result"
    }
   ],
   "source": [
    "name.center(20,'*')"
   ]
  },
  {
   "cell_type": "markdown",
   "id": "11f12573",
   "metadata": {},
   "source": [
    "11. write your own definition of compiler and interpretor without copy paste\n"
   ]
  },
  {
   "cell_type": "markdown",
   "id": "017f2c33",
   "metadata": {},
   "source": [
    "Compiler is a traslator which runs the whole program in one go whilst interpretor translated one statement at a time. "
   ]
  },
  {
   "cell_type": "markdown",
   "id": "91adfbb9",
   "metadata": {},
   "source": [
    "12. Python is a interpreted orcompiled language give a clear ans with understanding\n"
   ]
  },
  {
   "cell_type": "markdown",
   "id": "b5b94b00",
   "metadata": {},
   "source": [
    "Python is an Interpreted language because:\n",
    "\n",
    "- Python program runs directly from the source code.\n",
    "-Each time Python programs are executed code is required.\n",
    "-Python converts source code written by the programmer into intermediate language which is again translated into the native --language / machine language that is executed. So Python is an Interpreted language.\n",
    "-It is processed at runtime by the interpreter.\n",
    "-The program need not be compiled before its execution."
   ]
  },
  {
   "cell_type": "markdown",
   "id": "7bb54220",
   "metadata": {},
   "source": [
    "13. Try to write a usecase of python with your understanding"
   ]
  },
  {
   "cell_type": "markdown",
   "id": "50446d61",
   "metadata": {},
   "source": [
    "- Web applications\n",
    "- Software development.\n",
    "- Data science.\n",
    "- AI applications.\n",
    "- Game development."
   ]
  },
  {
   "cell_type": "code",
   "execution_count": null,
   "id": "771eb7cd",
   "metadata": {},
   "outputs": [],
   "source": []
  }
 ],
 "metadata": {
  "kernelspec": {
   "display_name": "Python 3 (ipykernel)",
   "language": "python",
   "name": "python3"
  },
  "language_info": {
   "codemirror_mode": {
    "name": "ipython",
    "version": 3
   },
   "file_extension": ".py",
   "mimetype": "text/x-python",
   "name": "python",
   "nbconvert_exporter": "python",
   "pygments_lexer": "ipython3",
   "version": "3.9.7"
  }
 },
 "nbformat": 4,
 "nbformat_minor": 5
}
